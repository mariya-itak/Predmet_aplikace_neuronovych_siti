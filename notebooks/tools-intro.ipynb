{
 "cells": [
  {
   "cell_type": "markdown",
   "metadata": {},
   "source": [
    "# Jupyter notebook"
   ]
  },
  {
   "cell_type": "markdown",
   "metadata": {},
   "source": [
    "Prostředí, ve kterém se právě nachízíme, se nazývá **jupyter notebook**. Jedná se o interakivní intepretované prostředí a je ve své podstatě (notně) vylepšeným příkazovým řádkem. Přestože ho tak lze používat, notebook tedy není skript v pravém slova smyslu, ale spíše kolekcí bloků kódu (cells), jež lze spouštět v libovolném pořadí. To zvyšuje interaktivitu výuky a zjednodušuje testování nových myšlenek, zároveň ovšem komplikuje debugování a není příliš vhodné pro produkční nasazení.\n",
    "\n",
    "Kakždá buňka má dva módy:\n",
    "1. editační\n",
    "2. příkazový\n",
    "\n",
    "Do **editačního módu** se dostaneme označením buňky a stisknutím `enter`, příp. dvojkliknutím dovnitř.\n",
    "\n",
    "Do **příkazového módu** se pak dostaneme např. stisknutím `escape` nebo spuštěním kódu buňky pomocí `ctrl + enter`.\n",
    "\n",
    "Kromě editačního a příkazového módu jupyter ve výchozím nastavení podporuje tři základní typy buněk, mezi nimiž lze přepínat v příkazovém módu.\n",
    "\n",
    "| typ buňky | klávesa | popis |\n",
    "| :--- | :---: | :--- |\n",
    "| **python** | `y` | jupyter bude považovat buňku za python kód |\n",
    "| **markdown** | `m` | po spuštění se buňka zformátuje dle pravidel jazyka [markdown](https://www.markdownguide.org/basic-syntax/) |\n",
    "| **raw** | `r` | nelze spustit, jupyter obsah nijak nezpracuje |\n",
    "\n",
    "Pokud se nacházíme v příkazovém režimu, lze vytvořit novou buňku *za* aktuálně označenou zmáčnkutím `b`. Výchozím typem buňky je python kód."
   ]
  },
  {
   "cell_type": "code",
   "execution_count": null,
   "metadata": {},
   "outputs": [],
   "source": [
    "print('hello jupyter')"
   ]
  },
  {
   "cell_type": "markdown",
   "metadata": {},
   "source": [
    "## Našeptávač"
   ]
  },
  {
   "cell_type": "markdown",
   "metadata": {},
   "source": [
    "Doplňování kódu v jupyter notebooku funguje na stisk `tab`. Např. `\"pr\" --> tab` nabídne možnosti začínající na `\"pr\"`, přičemž první bude `print`.\n",
    "\n",
    "Nápovědu a dokumentaci k funkcím lze zobrazit pomocí `shift + tab`. Kombinaci lze zmáčknout jednou či vícekrát za sebou:\n",
    "- 1x ... jednoduché zobrazení parametrů\n",
    "- 2x ... zobrazí parametry i dokumentací funkce\n",
    "- 3x ... dtto, ale nezmizí při posunu kurzoru\n",
    "- 4x ... zobrazí dokumentaci funkce v samostatném okně"
   ]
  },
  {
   "cell_type": "markdown",
   "metadata": {},
   "source": [
    "## Zobrazení výstupu buňky"
   ]
  },
  {
   "cell_type": "markdown",
   "metadata": {},
   "source": [
    "Jupyter notebook zobrazuje výstup pod buňkou, která byla spuštěna. Kromě explicitního výstupu určeného kódem, tedy např. funkcí `print`, zároveň zobrazuje výstup (hodnotu) *posledního* příkazu buňky."
   ]
  },
  {
   "cell_type": "code",
   "execution_count": null,
   "metadata": {},
   "outputs": [],
   "source": [
    "# zobrazi vysledek pouze druhe operace\n",
    "3 + 3\n",
    "2 ** 5"
   ]
  },
  {
   "cell_type": "markdown",
   "metadata": {},
   "source": [
    "Toto chování lze zablokovat středníkem, podobně jako v MATLABu."
   ]
  },
  {
   "cell_type": "code",
   "execution_count": null,
   "metadata": {},
   "outputs": [],
   "source": [
    "# nezobrazi nic, protoze posledni prikaz je zakoncen strednikem\n",
    "3 + 3\n",
    "2 ** 5;"
   ]
  },
  {
   "cell_type": "markdown",
   "metadata": {},
   "source": [
    "## Odkazy pro práci s jupyter notebook"
   ]
  },
  {
   "cell_type": "markdown",
   "metadata": {},
   "source": [
    "To je prozatím vše, co budeme potřebovat. Další informace najdete např. na následujících odkazech.\n",
    "\n",
    "Stručný přehled zkratek: https://www.cheatography.com/weidadeyue/cheat-sheets/jupyter-notebook/\n",
    "\n",
    "Zkratky a další užitečné tipy pro práci s notebookem: https://www.dataquest.io/blog/jupyter-notebook-tips-tricks-shortcuts/"
   ]
  },
  {
   "cell_type": "markdown",
   "metadata": {},
   "source": [
    "# Knihovna numpy"
   ]
  },
  {
   "cell_type": "markdown",
   "metadata": {},
   "source": [
    "Knihovna [numpy](https://www.numpy.org/) slouží pro numerické výpočty s vektory, maticemi a tensory. Je součástí distribuce Anaconda a není tedy třeba ji doinstalovávat. Importuje se obvykle takto:"
   ]
  },
  {
   "cell_type": "code",
   "execution_count": null,
   "metadata": {},
   "outputs": [],
   "source": [
    "import numpy as np"
   ]
  },
  {
   "cell_type": "markdown",
   "metadata": {},
   "source": [
    "## numpy vs MATLAB"
   ]
  },
  {
   "cell_type": "markdown",
   "metadata": {},
   "source": [
    "Numpy má velice podobné API jako MATLAB. Nalezneme zde většinu známých funkcí jako `zeros`, `ones`, `randn` apod. a mají téměř shodné chování. Všechny matice, vektory, i vícerozměrné tensory v numpy jsou typu `numpy.ndarray` (*n*-dimenzionální pole). Incializují se podobně jako v MATLABu:"
   ]
  },
  {
   "cell_type": "code",
   "execution_count": null,
   "metadata": {},
   "outputs": [],
   "source": [
    "# vektor 3 nul, vychozi dat. typ je double (float64)\n",
    "np.zeros(3)"
   ]
  },
  {
   "cell_type": "code",
   "execution_count": null,
   "metadata": {},
   "outputs": [],
   "source": [
    "# vektor 4 jednicek a typu 8-bit integer\n",
    "np.ones((4,), dtype=np.uint8)"
   ]
  },
  {
   "cell_type": "markdown",
   "metadata": {},
   "source": [
    "Numpy se MATLABu velice podobá, ale několik rozdílů najdeme. Už v předcházejícím příkladu se chová jinak. V MATLABu by totiž příkaz `zeros(3)` namísto vektoru 3 nul vytvořil 3x3 *matici* nul."
   ]
  },
  {
   "cell_type": "markdown",
   "metadata": {},
   "source": [
    "### Rozdíl: dimenzionalita vektorů a matic"
   ]
  },
  {
   "cell_type": "markdown",
   "metadata": {},
   "source": [
    "Zřejmě nejásadnějším rozdílem mezi MATLABem a numpy je, že **v numpy jsou vektory jednorozměrné pole**, zatímco v MATLABu jsou to matice s jedním řádkem či sloupcem."
   ]
  },
  {
   "cell_type": "code",
   "execution_count": null,
   "metadata": {},
   "outputs": [],
   "source": [
    "a = np.ones((3, ))\n",
    "a"
   ]
  },
  {
   "cell_type": "code",
   "execution_count": null,
   "metadata": {},
   "outputs": [],
   "source": [
    "a.shape"
   ]
  },
  {
   "cell_type": "markdown",
   "metadata": {},
   "source": [
    "Atribut `.shape` je `tuple` udávající velikost tensoru v jednotlivých rozměrech (dimenzích). Vektor je proto \"1-tice\", jelikož má pouze jeden rozměr. Matice bude mít dvojici (2-tici) čísel značící počet řádků, resp. sloupců. Tu musíme zadat i při vytváření např. pomocí funkcí `zeros` či `ones`."
   ]
  },
  {
   "cell_type": "code",
   "execution_count": null,
   "metadata": {},
   "outputs": [],
   "source": [
    "# matice s 3 radky a 2 sloupci na nuly:\n",
    "A = np.zeros((3, 2))\n",
    "A"
   ]
  },
  {
   "cell_type": "code",
   "execution_count": null,
   "metadata": {},
   "outputs": [],
   "source": [
    "A.shape"
   ]
  },
  {
   "cell_type": "code",
   "execution_count": null,
   "metadata": {},
   "outputs": [],
   "source": [
    "a.reshape(1, 3)"
   ]
  },
  {
   "cell_type": "markdown",
   "metadata": {},
   "source": [
    "V numpy je drobná nekonzistence, kdy funkce jako zeros či ones přebírají rozměry jako `tuple`, zatímco `rand` a `randn` postupně jako argumenty funkce. `np.random.randn((3, 2))` tedy nebude fungovat. Inicializovat musíme následovně:"
   ]
  },
  {
   "cell_type": "code",
   "execution_count": null,
   "metadata": {},
   "outputs": [],
   "source": [
    "# nahodne hodnoty z gaussovskeho (normalniho) rozlozeni\n",
    "np.random.randn(3, 2)"
   ]
  },
  {
   "cell_type": "code",
   "execution_count": null,
   "metadata": {},
   "outputs": [],
   "source": [
    "# nahodne hodnoty z rovnomerneho rozlozeni (na konci neni n) 0 ... 1\n",
    "np.random.rand(3, 2)"
   ]
  },
  {
   "cell_type": "markdown",
   "metadata": {},
   "source": [
    "### Rozdíl: manuální inicializace"
   ]
  },
  {
   "cell_type": "markdown",
   "metadata": {},
   "source": [
    "Manuální inicializace se namísto hranatých závorek a středníků provádí příkazem `np.array`. Funkce převezme standardní pythonovské pole a automaticky ho převede na `np.ndarray`."
   ]
  },
  {
   "cell_type": "code",
   "execution_count": null,
   "metadata": {},
   "outputs": [],
   "source": [
    "a = np.array([7, 6, 1, 5, 3, 4, 2, 1, 2, 8, 9])\n",
    "a"
   ]
  },
  {
   "cell_type": "markdown",
   "metadata": {},
   "source": [
    "Při manuální iniclizaci 2D matic se do funkce `np.array` zadává pole polí, kde každé vnořené pole musí mít stejnou velikost."
   ]
  },
  {
   "cell_type": "code",
   "execution_count": null,
   "metadata": {},
   "outputs": [],
   "source": [
    "# matice 2x3\n",
    "A = np.array([\n",
    "    [1, 4, 2.],\n",
    "    [5, 3, 6],\n",
    "])\n",
    "\n",
    "print(A.shape, A.dtype)\n",
    "print(A)"
   ]
  },
  {
   "cell_type": "markdown",
   "metadata": {},
   "source": [
    "### Rozdíl: přístup k prvkům"
   ]
  },
  {
   "cell_type": "markdown",
   "metadata": {},
   "source": [
    "Dalším zásadním rozdílem oproti MATLABu je, že **numpy indexuje od nuly**, zatímco MATLAB od jedničky."
   ]
  },
  {
   "cell_type": "code",
   "execution_count": null,
   "metadata": {},
   "outputs": [],
   "source": [
    "a[0], a[1], a[2]"
   ]
  },
  {
   "cell_type": "markdown",
   "metadata": {},
   "source": [
    "Tzv. slicing, aneb přístup k více prvkům najednou."
   ]
  },
  {
   "cell_type": "code",
   "execution_count": null,
   "metadata": {},
   "outputs": [],
   "source": [
    "# prvni 3 prvky, tj. prvky s indexy 0, 1, a 2; posledni (index 3) NENI zahrnut\n",
    "a[:3]"
   ]
  },
  {
   "cell_type": "code",
   "execution_count": null,
   "metadata": {},
   "outputs": [],
   "source": [
    "# od 7 (tedy od 8. prvku) dale\n",
    "a[7:]"
   ]
  },
  {
   "cell_type": "code",
   "execution_count": null,
   "metadata": {},
   "outputs": [],
   "source": [
    "# od 2 do predposledniho po 3 (vsimneme si -1)\n",
    "a[2:-1:3]"
   ]
  },
  {
   "cell_type": "code",
   "execution_count": null,
   "metadata": {},
   "outputs": [],
   "source": [
    "# vsechny, ale pozpatku\n",
    "a[::-1]"
   ]
  },
  {
   "cell_type": "code",
   "execution_count": null,
   "metadata": {},
   "outputs": [],
   "source": [
    "# manualni vyber\n",
    "a[[2, 3, 0, 6, -1]]"
   ]
  },
  {
   "cell_type": "markdown",
   "metadata": {},
   "source": [
    "U matic je podobně jako v MATLABu **první souřadnice vždy řádek, druhá sloupec**."
   ]
  },
  {
   "cell_type": "code",
   "execution_count": null,
   "metadata": {},
   "outputs": [],
   "source": [
    "# druhy radek, treti sloupec\n",
    "A[1, 2]"
   ]
  },
  {
   "cell_type": "markdown",
   "metadata": {},
   "source": [
    "V Pythonu lze indexovat i od konce tak, že použijeme záporné znaménko. Numpy tuto funkcionalitu také implementuje."
   ]
  },
  {
   "cell_type": "code",
   "execution_count": null,
   "metadata": {
    "scrolled": true
   },
   "outputs": [],
   "source": [
    "# druhy radek, druhy sloupec (matice je 2x3)\n",
    "A[-1, 1]"
   ]
  },
  {
   "cell_type": "markdown",
   "metadata": {},
   "source": [
    "Pokud vybereme řádek či sloupec, bude výsledek vektor a tudíž jednorozměrný. **Nezachová tedy \"sloupcovost\".**"
   ]
  },
  {
   "cell_type": "code",
   "execution_count": null,
   "metadata": {},
   "outputs": [],
   "source": [
    "# cely druhy sloupec\n",
    "A[:, 1]"
   ]
  },
  {
   "cell_type": "markdown",
   "metadata": {},
   "source": [
    "Při výběru nemusíme vždy specifikovat indexy pro všechny dimenze:"
   ]
  },
  {
   "cell_type": "code",
   "execution_count": null,
   "metadata": {},
   "outputs": [],
   "source": [
    "# prvni radek matice A = ekvivalent A[0, :]\n",
    "A[0]"
   ]
  },
  {
   "cell_type": "markdown",
   "metadata": {},
   "source": [
    "### Rozdíl: náhled vs kopie"
   ]
  },
  {
   "cell_type": "markdown",
   "metadata": {},
   "source": [
    "V numpy se při indexování defaultně vrací *náhled* do pole, nikoliv kopie. Pokud tedy něco změníte, změna se projeví i v původním poli. Např.:"
   ]
  },
  {
   "cell_type": "code",
   "execution_count": null,
   "metadata": {},
   "outputs": [],
   "source": [
    "row = A[0, :]  # row je pouze nahled, nikoliv kopie radku\n",
    "row[-1] = 10   # posledni element je zmenen i v puvodni matici\n",
    "A"
   ]
  },
  {
   "cell_type": "markdown",
   "metadata": {},
   "source": [
    "Pokud tedy **nechceme** modifikovat původní matici, musíme zavolat metodu `.copy()`."
   ]
  },
  {
   "cell_type": "code",
   "execution_count": null,
   "metadata": {},
   "outputs": [],
   "source": [
    "row = A[0, :].copy()  # vytvori kopii\n",
    "row[-1] = 20\n",
    "A"
   ]
  },
  {
   "cell_type": "markdown",
   "metadata": {},
   "source": [
    "Jen pro pořádek, v následujícím problém s náhledem nenastane."
   ]
  },
  {
   "cell_type": "code",
   "execution_count": null,
   "metadata": {},
   "outputs": [],
   "source": [
    "row = A[0, :]\n",
    "row = np.random.randn(2)\n",
    "A"
   ]
  },
  {
   "cell_type": "markdown",
   "metadata": {},
   "source": [
    "První řádek se nezmění, protože proměnné `row`, která je jako všechny proměnné v Pythonu pouhou referencí, byl prostě jen přiřazen nový objekt, který bude cílem odkazu. S původními hodnotami se tedy nijak nemanipulovalo. Přepisu celého řádku dosáhneme např. takto:"
   ]
  },
  {
   "cell_type": "code",
   "execution_count": null,
   "metadata": {},
   "outputs": [],
   "source": [
    "# to same jako `R[0, :] = np.random.randn(2)`\n",
    "row = A[0, :]\n",
    "row[:] = np.random.randint(10, size=3)\n",
    "A"
   ]
  },
  {
   "cell_type": "markdown",
   "metadata": {},
   "source": [
    "**Náhled vrací numpy i jako výsledek funkcí téměř kdykoliv to jde**, tj. např. i `.reshape()` či `.ravel()`."
   ]
  },
  {
   "cell_type": "code",
   "execution_count": null,
   "metadata": {},
   "outputs": [],
   "source": [
    "A_ravel = A.ravel()\n",
    "A_ravel"
   ]
  },
  {
   "cell_type": "code",
   "execution_count": null,
   "metadata": {},
   "outputs": [],
   "source": [
    "A_ravel[0] = -1\n",
    "A"
   ]
  },
  {
   "cell_type": "markdown",
   "metadata": {},
   "source": [
    "Ale ne vždy, např. funkce `flatten()` je definovaná tak, aby vždy vracela kopie."
   ]
  },
  {
   "cell_type": "code",
   "execution_count": null,
   "metadata": {},
   "outputs": [],
   "source": [
    "A_flat = A.flatten()\n",
    "A_flat[0] = -2\n",
    "A"
   ]
  },
  {
   "cell_type": "markdown",
   "metadata": {},
   "source": [
    "# Knihovna PyTorch"
   ]
  },
  {
   "cell_type": "markdown",
   "metadata": {},
   "source": [
    "PyTorch **nahrazuje numpy** pro práci s tensory a přidává navíc vlastní funkcionalitu, především:\n",
    "1. automatický výpočet gradientu pro zpětnou propagaci\n",
    "2. a akceleraci výpočtů na grafické kartě.\n",
    "\n",
    "PyTorch bohužel nezachovává API a některé funkce mají jiný název než jejich ekvivalenty v numpy. Zde je dobré zmínit, že existují i další knihovny, které numpy API implementují beze změn a slouží tedy jako jeho přímá náhrada. Mezi nejznámější takové projekty patří [cupy](https://github.com/cupy/cupy), který je spjat s knihovnou pro neuronové sítě [chainer](https://github.com/chainer/chainer) (již nevyvíjenou), a [jax](https://github.com/google/jax) vyvíjený Googlem. Tyto nástroje však zatím nedosáhly takové popularity jako PyTorch a proto se jimi nebudeme dále zabývat.\n",
    "\n",
    "**Pozn.:** zkontrolujte verzi PyTorch; měla by být $\\ge$ 1.0."
   ]
  },
  {
   "cell_type": "code",
   "execution_count": null,
   "metadata": {},
   "outputs": [],
   "source": [
    "import torch\n",
    "torch.__version__"
   ]
  },
  {
   "cell_type": "markdown",
   "metadata": {},
   "source": [
    "## Porovnání s numpy"
   ]
  },
  {
   "cell_type": "markdown",
   "metadata": {},
   "source": [
    "Jak bylo zmíněno, pytorch neimplementuje numpy API, ale svoje vlastní. Spíše než numpy se pytorch snaží blížit MATLABu. Mezi pytorch a numpy knihovnami je však i velký překryv, viz následující. Přehled rozdílů naleznete na: https://github.com/wkentaro/pytorch-for-numpy-users.\n",
    "\n",
    "Podobně jako v numpy je vše `ndarray`, v pytorch je základním kamenem třída `Tensor`. Velmi se `numpy.ndarray` podobá: má atributy `.shape` a `.dtype` se shodným významem. Podporuje také konverzi mezi a numpy a pytorch a to oběma směry."
   ]
  },
  {
   "cell_type": "code",
   "execution_count": null,
   "metadata": {},
   "outputs": [],
   "source": [
    "T = torch.ones(3)\n",
    "T"
   ]
  },
  {
   "cell_type": "code",
   "execution_count": null,
   "metadata": {},
   "outputs": [],
   "source": [
    "T.shape, T.dtype"
   ]
  },
  {
   "cell_type": "markdown",
   "metadata": {},
   "source": [
    "Atribut `.shape` je typu `torch.Size`, ale pro běžné potřeby se chová stejně jako `tuple`. Všimněme si rovněž, že výchozím typem (datatype, dtype) je `float32`. Je tomu tak kvůli potenciální akceleraci na GPU, kde se kvůli efektivitě pracuje právě se single precision namísto double, jak tomu je v numpy."
   ]
  },
  {
   "cell_type": "code",
   "execution_count": null,
   "metadata": {},
   "outputs": [],
   "source": [
    "# pozadovany tvar matice neni `tuple` ani `list`, ale seznam parametru\n",
    "torch.zeros(2, 3, dtype=torch.int)"
   ]
  },
  {
   "cell_type": "code",
   "execution_count": null,
   "metadata": {},
   "outputs": [],
   "source": [
    "torch.randn(3, 2)"
   ]
  },
  {
   "cell_type": "markdown",
   "metadata": {},
   "source": [
    "## Přístup k prvkům"
   ]
  },
  {
   "cell_type": "markdown",
   "metadata": {},
   "source": [
    "Přístup k prvkům je shodný s numpy."
   ]
  },
  {
   "cell_type": "code",
   "execution_count": null,
   "metadata": {},
   "outputs": [],
   "source": [
    "T = torch.arange(12).reshape(4, 3)\n",
    "T"
   ]
  },
  {
   "cell_type": "code",
   "execution_count": null,
   "metadata": {},
   "outputs": [],
   "source": [
    "T[1, 2]"
   ]
  },
  {
   "cell_type": "code",
   "execution_count": null,
   "metadata": {},
   "outputs": [],
   "source": [
    "T[:, 1]"
   ]
  },
  {
   "cell_type": "code",
   "execution_count": null,
   "metadata": {},
   "outputs": [],
   "source": [
    "T[1]"
   ]
  },
  {
   "cell_type": "code",
   "execution_count": null,
   "metadata": {},
   "outputs": [],
   "source": [
    "# vice radku najednou\n",
    "T[[1, 3]]"
   ]
  },
  {
   "cell_type": "code",
   "execution_count": null,
   "metadata": {},
   "outputs": [],
   "source": [
    "# -1 ... indexovani od konce jako v numpy\n",
    "T[:, [1, -1]]"
   ]
  },
  {
   "cell_type": "markdown",
   "metadata": {},
   "source": [
    "## Konverze numpy $\\leftrightarrow$ pytorch"
   ]
  },
  {
   "cell_type": "code",
   "execution_count": null,
   "metadata": {},
   "outputs": [],
   "source": [
    "arr = np.arange(12).reshape(3, 4)\n",
    "arr"
   ]
  },
  {
   "cell_type": "code",
   "execution_count": null,
   "metadata": {},
   "outputs": [],
   "source": [
    "# vysledny tensor ma SDILENOU PAMET!\n",
    "ten = torch.from_numpy(arr)\n",
    "arr[0, 0] = -1\n",
    "ten"
   ]
  },
  {
   "cell_type": "code",
   "execution_count": null,
   "metadata": {},
   "outputs": [],
   "source": [
    "# konverze zept do numpy: opet SDILENA PAMET!\n",
    "ten.numpy()"
   ]
  },
  {
   "cell_type": "code",
   "execution_count": null,
   "metadata": {},
   "outputs": [],
   "source": [
    "# numpy --> pytorch: bez sdileni pameti (deep copy)\n",
    "ten = torch.tensor(arr)\n",
    "arr[0, 0] = -2\n",
    "ten"
   ]
  },
  {
   "cell_type": "code",
   "execution_count": null,
   "metadata": {},
   "outputs": [],
   "source": [
    "# pytorch --> numpy: bez sdileni pameti (deep copy)\n",
    "np.array(ten)"
   ]
  },
  {
   "cell_type": "markdown",
   "metadata": {},
   "source": [
    "## Náhled vs kopie"
   ]
  },
  {
   "cell_type": "markdown",
   "metadata": {},
   "source": [
    "PyTorch má podobně jako numpy rád náhledy, ne kopie. K vytvoření kopie zde slouží metoda `.clone()`."
   ]
  },
  {
   "cell_type": "code",
   "execution_count": null,
   "metadata": {},
   "outputs": [],
   "source": [
    "ten_ = ten\n",
    "ten_.data_ptr() == ten.data_ptr()"
   ]
  },
  {
   "cell_type": "code",
   "execution_count": null,
   "metadata": {},
   "outputs": [],
   "source": [
    "ten_ = ten.clone()\n",
    "ten_.data_ptr() == ten.data_ptr()"
   ]
  },
  {
   "cell_type": "code",
   "execution_count": null,
   "metadata": {},
   "outputs": [],
   "source": [
    "ten.flatten().data_ptr() == ten.data_ptr()"
   ]
  },
  {
   "cell_type": "code",
   "execution_count": null,
   "metadata": {},
   "outputs": [],
   "source": [
    "ten.reshape(4, 3).data_ptr() == ten.data_ptr()"
   ]
  },
  {
   "cell_type": "markdown",
   "metadata": {},
   "source": [
    "## Násobení matic a vektorů"
   ]
  },
  {
   "cell_type": "markdown",
   "metadata": {},
   "source": [
    "Zatímco v numpy je stěžejní operací `np.dot`, která umí pracovat i vícerozměrnými poli, v pytorchi je operací pro násobení matic a vektorů více.\n",
    "\n",
    "- `torch.dot` ... pouze násobení vektorů, tj. jednorozměrných vstupů. Pokud je vstup vícerozměrný, je \"zploštěn\" na vektor funkcí jako u `flatten()`\n",
    "- `torch.mm` ... násobení 2D matic. Nepodporuje 1D a více-D vstupy.\n",
    "- `torch.bmm` ... dávkové násobení matic. Oba vstupy jsou 3D, stejně dlouhé \"seznamy\" matic, které tvoří dvojice pro vynásobení `torch.mm`.\n",
    "- `torch.matmul` ... funkce, která automaticky provede jednu z předchozích variant v závislosti na rozměru vstupů. Tato funkce se chováním nejvíce podobá `np.dot`, **ale není její ekvivalent**."
   ]
  },
  {
   "cell_type": "code",
   "execution_count": null,
   "metadata": {},
   "outputs": [],
   "source": [
    "a = torch.tensor([2, 3, 4])\n",
    "b = torch.tensor([5, 3, 1])"
   ]
  },
  {
   "cell_type": "markdown",
   "metadata": {},
   "source": [
    "**Vektor x vektor:**"
   ]
  },
  {
   "cell_type": "code",
   "execution_count": null,
   "metadata": {},
   "outputs": [],
   "source": [
    "# operace 2*5 + 3*3 + 4*1\n",
    "torch.dot(a, b)"
   ]
  },
  {
   "cell_type": "markdown",
   "metadata": {},
   "source": [
    "**Matice x vektor:**"
   ]
  },
  {
   "cell_type": "code",
   "execution_count": null,
   "metadata": {},
   "outputs": [],
   "source": [
    "A = torch.tensor([\n",
    "    [2, 3, 4],\n",
    "    [-1, -2, -3]\n",
    "])"
   ]
  },
  {
   "cell_type": "code",
   "execution_count": null,
   "metadata": {},
   "outputs": [],
   "source": [
    "# dva radky:\n",
    "# 2*5 + 3*3 + 4*1 = 23\n",
    "# (-1)*5 + (-2)*3 + (-3)*1 = -14\n",
    "torch.mm(A, b.reshape(-1, 1))  # oba parametry musi byt min. 2D, proto transpozice `reshape` na sloupcovy vektor"
   ]
  },
  {
   "cell_type": "markdown",
   "metadata": {},
   "source": [
    "**Matice x matice**:\n",
    "\n",
    "Všimněme si, že musí sedět rozměry tak, aby šlo matice násobit! Jelikož je druhý operand dvourozměrný, musí být původní vektor (5, 3, 1) zapsán skutečně jako sloupec. Druhý sloupec pak je (-4, -2, 0)."
   ]
  },
  {
   "cell_type": "code",
   "execution_count": null,
   "metadata": {},
   "outputs": [],
   "source": [
    "B = torch.tensor([\n",
    "    [5, -4],\n",
    "    [3, -1],\n",
    "    [1, 0]\n",
    "])"
   ]
  },
  {
   "cell_type": "code",
   "execution_count": null,
   "metadata": {},
   "outputs": [],
   "source": [
    "torch.mm(A, B)"
   ]
  },
  {
   "cell_type": "markdown",
   "metadata": {},
   "source": [
    "**Použití funkce `matmul`:**"
   ]
  },
  {
   "cell_type": "code",
   "execution_count": null,
   "metadata": {},
   "outputs": [],
   "source": [
    "torch.matmul(a, b)"
   ]
  },
  {
   "cell_type": "code",
   "execution_count": null,
   "metadata": {},
   "outputs": [],
   "source": [
    "torch.matmul(A, b)"
   ]
  },
  {
   "cell_type": "code",
   "execution_count": null,
   "metadata": {},
   "outputs": [],
   "source": [
    "torch.matmul(A, B)"
   ]
  },
  {
   "cell_type": "markdown",
   "metadata": {},
   "source": [
    "**Operátor `@`**\n",
    "\n",
    "V Pythonu $\\ge$ 3.5 lze použít také operátor `@`, který byl [navržen speciálně](https://www.python.org/dev/peps/pep-0465/) pro násobení matic v knihovnách jako numpy a pytorch. Je implementován metodou `matmul`, kromě syntaxe se od ní tedy nijak neliší."
   ]
  },
  {
   "cell_type": "code",
   "execution_count": null,
   "metadata": {},
   "outputs": [],
   "source": [
    "a @ b"
   ]
  },
  {
   "cell_type": "code",
   "execution_count": null,
   "metadata": {},
   "outputs": [],
   "source": [
    "A @ b"
   ]
  },
  {
   "cell_type": "code",
   "execution_count": null,
   "metadata": {},
   "outputs": [],
   "source": [
    "A @ B"
   ]
  },
  {
   "cell_type": "code",
   "execution_count": null,
   "metadata": {},
   "outputs": [],
   "source": []
  }
 ],
 "metadata": {
  "kernelspec": {
   "display_name": "Python 3",
   "language": "python",
   "name": "python3"
  },
  "language_info": {
   "codemirror_mode": {
    "name": "ipython",
    "version": 3
   },
   "file_extension": ".py",
   "mimetype": "text/x-python",
   "name": "python",
   "nbconvert_exporter": "python",
   "pygments_lexer": "ipython3",
   "version": "3.8.11"
  },
  "varInspector": {
   "cols": {
    "lenName": 16,
    "lenType": 16,
    "lenVar": 40
   },
   "kernels_config": {
    "python": {
     "delete_cmd_postfix": "",
     "delete_cmd_prefix": "del ",
     "library": "var_list.py",
     "varRefreshCmd": "print(var_dic_list())"
    },
    "r": {
     "delete_cmd_postfix": ") ",
     "delete_cmd_prefix": "rm(",
     "library": "var_list.r",
     "varRefreshCmd": "cat(var_dic_list()) "
    }
   },
   "types_to_exclude": [
    "module",
    "function",
    "builtin_function_or_method",
    "instance",
    "_Feature"
   ],
   "window_display": false
  }
 },
 "nbformat": 4,
 "nbformat_minor": 4
}
