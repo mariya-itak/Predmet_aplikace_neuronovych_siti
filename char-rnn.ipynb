{
 "cells": [
  {
   "cell_type": "markdown",
   "metadata": {},
   "source": [
    "# Generování textu znakovou RNN"
   ]
  },
  {
   "cell_type": "code",
   "execution_count": 1,
   "metadata": {},
   "outputs": [],
   "source": [
    "import numpy as np\n",
    "import matplotlib.pyplot as plt\n",
    "import random\n",
    "import tqdm\n",
    "\n",
    "import torch\n",
    "import torch.nn.functional as F\n",
    "from torch import nn\n",
    "\n",
    "import ans"
   ]
  },
  {
   "cell_type": "markdown",
   "metadata": {},
   "source": [
    "V tomto cvičení nebudeme používat GPU, protože budeme zpracovávat znaky po jednom a v takto malých dávkách overhead způsobený neustálými přesuny dat mezi GPU a RAM výpočty pouze zpomalí."
   ]
  },
  {
   "cell_type": "markdown",
   "metadata": {},
   "source": [
    "# Data\n",
    "\n",
    "Namísto obrazu tentokrát použijeme textová data. Konkrétně se jedná o novinové nadpisy, které se budeme snažit generovat automaticky. Všechna data jsou v jediném souboru `data/headlines.txt`.\n",
    "\n",
    "Z textu byly odstraněny háčky, čárky a všechny nestandardní znaky. Není tedy potřeba řešit kódování apod."
   ]
  },
  {
   "cell_type": "code",
   "execution_count": 2,
   "metadata": {},
   "outputs": [],
   "source": [
    "data = open('data/headlines.txt').read()\n",
    "lines = [line for line in data.split('\\n') if line]"
   ]
  },
  {
   "cell_type": "markdown",
   "metadata": {},
   "source": [
    "Ukázka dat:"
   ]
  },
  {
   "cell_type": "code",
   "execution_count": 3,
   "metadata": {},
   "outputs": [
    {
     "name": "stdout",
     "output_type": "stream",
     "text": [
      "0 tesla v evrope nabidne akumulatory s kapacitou 100 kwh\n",
      "1 iran stavi v syrii tovarnu na rakety\n",
      "2 polak na bruntalsku zemrel po potapeni v lomu\n",
      "3 v prudkych bojich na jihu ukrajiny se strili z tezkych zbrani ktere uz mely byt stazeny\n",
      "4 benesuv betlem se rozsiril o dalsi postavy\n",
      "5 rusove vyjednavaji v ankare se syrskymi povstalci\n",
      "6 za srazku vlaku na klatovsku obvineni vyhybkar a vypravci\n",
      "7 byvaly moderator top gearu hammond mel vaznou automobilovou nehodu\n",
      "8 nehoda ctyr osobnich aut uzavrela hlavni tah z plzne na klatovy\n",
      "9 zdrogovaneho ridice v ceske trebove stoply az zastavovaci pasy s hroty\n"
     ]
    }
   ],
   "source": [
    "for i in range(10):\n",
    "    print(i, random.choice(lines))"
   ]
  },
  {
   "cell_type": "markdown",
   "metadata": {},
   "source": [
    "Sada znaků = náš slovník:"
   ]
  },
  {
   "cell_type": "code",
   "execution_count": 4,
   "metadata": {},
   "outputs": [
    {
     "name": "stdout",
     "output_type": "stream",
     "text": [
      "38 ['\\n', ' ', '0', '1', '2', '3', '4', '5', '6', '7', '8', '9', 'a', 'b', 'c', 'd', 'e', 'f', 'g', 'h', 'i', 'j', 'k', 'l', 'm', 'n', 'o', 'p', 'q', 'r', 's', 't', 'u', 'v', 'w', 'x', 'y', 'z']\n"
     ]
    }
   ],
   "source": [
    "chars = list(sorted(set(data)))\n",
    "print(len(chars), chars)"
   ]
  },
  {
   "cell_type": "markdown",
   "metadata": {},
   "source": [
    "Všimněme si, že první znak je `'\\n'`. Ten použijeme jako stop znak, neboli speciální token, jenž bude označovat konec sekvence. Pokud tedy při postupném generování věty dojde na tento znak, proces zastavíme.\n",
    "\n",
    "Následující tabulka (`dict`) nám usnadní převod znaku na index."
   ]
  },
  {
   "cell_type": "code",
   "execution_count": 5,
   "metadata": {},
   "outputs": [
    {
     "data": {
      "text/plain": [
       "{'\\n': 0,\n",
       " ' ': 1,\n",
       " '0': 2,\n",
       " '1': 3,\n",
       " '2': 4,\n",
       " '3': 5,\n",
       " '4': 6,\n",
       " '5': 7,\n",
       " '6': 8,\n",
       " '7': 9,\n",
       " '8': 10,\n",
       " '9': 11,\n",
       " 'a': 12,\n",
       " 'b': 13,\n",
       " 'c': 14,\n",
       " 'd': 15,\n",
       " 'e': 16,\n",
       " 'f': 17,\n",
       " 'g': 18,\n",
       " 'h': 19,\n",
       " 'i': 20,\n",
       " 'j': 21,\n",
       " 'k': 22,\n",
       " 'l': 23,\n",
       " 'm': 24,\n",
       " 'n': 25,\n",
       " 'o': 26,\n",
       " 'p': 27,\n",
       " 'q': 28,\n",
       " 'r': 29,\n",
       " 's': 30,\n",
       " 't': 31,\n",
       " 'u': 32,\n",
       " 'v': 33,\n",
       " 'w': 34,\n",
       " 'x': 35,\n",
       " 'y': 36,\n",
       " 'z': 37}"
      ]
     },
     "execution_count": 5,
     "metadata": {},
     "output_type": "execute_result"
    }
   ],
   "source": [
    "chr2idx = {c: i for i, c in enumerate(chars)}\n",
    "chr2idx"
   ]
  },
  {
   "cell_type": "markdown",
   "metadata": {},
   "source": [
    "Podíváme se na statistické rozložení prvních znaků ve větách."
   ]
  },
  {
   "cell_type": "code",
   "execution_count": 6,
   "metadata": {},
   "outputs": [
    {
     "name": "stderr",
     "output_type": "stream",
     "text": [
      "<ipython-input-6-8fe59eb42fe2>:4: DeprecationWarning: `np.float` is a deprecated alias for the builtin `float`. To silence this warning, use `float` by itself. Doing this will not modify any behavior and is safe. If you specifically wanted the numpy scalar type, use `np.float64` here.\n",
      "Deprecated in NumPy 1.20; for more details and guidance: https://numpy.org/devdocs/release/1.20.0-notes.html#deprecations\n",
      "  counts = np.array([counts[c] for c in chars], dtype=np.float)\n"
     ]
    }
   ],
   "source": [
    "counts = {c: 0 for c in chars}\n",
    "for line in lines:\n",
    "    counts[line[0]] += 1\n",
    "counts = np.array([counts[c] for c in chars], dtype=np.float)\n",
    "p0 = counts / counts.sum()"
   ]
  },
  {
   "cell_type": "code",
   "execution_count": 7,
   "metadata": {},
   "outputs": [
    {
     "data": {
      "image/png": "[encoded data removed]",
      "text/plain": [
       "<Figure size 1600x800 with 1 Axes>"
      ]
     },
     "metadata": {},
     "output_type": "display_data"
    }
   ],
   "source": [
    "plt.figure(figsize=(16, 8))\n",
    "rects = plt.bar(range(len(chars)), 100. * p0)\n",
    "plt.xticks(range(len(chars)), ['{}'.format(repr(c)) for c in chars])\n",
    "for r in rects:\n",
    "    x, w, h = r.get_x(), r.get_width(), r.get_height()\n",
    "    plt.text(x + w / 2., h + 0.1, '{:.1f}'.format(h), ha='center', va='bottom', fontsize=8)\n",
    "plt.ylabel('počet');\n",
    "plt.show()"
   ]
  },
  {
   "cell_type": "markdown",
   "metadata": {},
   "source": [
    "# Sekvenční data a PyTorch"
   ]
  },
  {
   "cell_type": "markdown",
   "metadata": {},
   "source": [
    "## Embedding"
   ]
  },
  {
   "cell_type": "markdown",
   "metadata": {},
   "source": [
    "Následující funkce `str2idt` převede řetězec na sekvenci čísel (index tensor) odpovídajících indexům znaků v tabulce. Pokud např. bude celý náš \"slovník\" `chars = ['a', 'b', 'c']`, pak funkce `str2idt` převede řetězec `'acba'` na `[0, 2, 1, 0]`. Výsledek vrátí jako PyTorch `torch.Tensor`."
   ]
  },
  {
   "cell_type": "code",
   "execution_count": 8,
   "metadata": {},
   "outputs": [],
   "source": [
    "def str2idt(string):\n",
    "    tensor = torch.zeros(len(string)).long()\n",
    "    for c in range(len(string)):\n",
    "        tensor[c] = chr2idx[string[c]]\n",
    "    return tensor"
   ]
  },
  {
   "cell_type": "code",
   "execution_count": 9,
   "metadata": {},
   "outputs": [
    {
     "data": {
      "text/plain": [
       "tensor([12, 13, 14, 12])"
      ]
     },
     "execution_count": 9,
     "metadata": {},
     "output_type": "execute_result"
    }
   ],
   "source": [
    "# nas slovnik ma 38 znaku, takze indexy znaku budou jine\n",
    "x = str2idt('abca')\n",
    "x"
   ]
  },
  {
   "cell_type": "markdown",
   "metadata": {},
   "source": [
    "Další funkce bude dělat opak: převede sekvenci indexů na řetězec."
   ]
  },
  {
   "cell_type": "code",
   "execution_count": 10,
   "metadata": {},
   "outputs": [],
   "source": [
    "def idt2str(indices):\n",
    "    return ''.join([chars[i] for i in indices])"
   ]
  },
  {
   "cell_type": "code",
   "execution_count": 11,
   "metadata": {},
   "outputs": [
    {
     "data": {
      "text/plain": [
       "'abca'"
      ]
     },
     "execution_count": 11,
     "metadata": {},
     "output_type": "execute_result"
    }
   ],
   "source": [
    "idt2str(x)"
   ]
  },
  {
   "cell_type": "markdown",
   "metadata": {},
   "source": [
    "Sekvenci čísel potřebujeme převést na vektory jednotlivých znaků. Tento proces se v anglické literatuře označuje jako embedding a PyTorch ho implementuje jako vrstvu třídou `Embedding`. Vyjádřením této operace diferencovatelnou vrstvou umožňuje učení vektorů, které tedy nemusejí být fixní. O tom ale až příště."
   ]
  },
  {
   "cell_type": "code",
   "execution_count": 12,
   "metadata": {},
   "outputs": [
    {
     "data": {
      "text/plain": [
       "torch.Size([4, 30])"
      ]
     },
     "execution_count": 12,
     "metadata": {},
     "output_type": "execute_result"
    }
   ],
   "source": [
    "# velikost slovniku je `len(chars)`\n",
    "# dimenze znakoveho vektoru bude napr. 30\n",
    "emb = nn.Embedding(len(chars), 30)\n",
    "\n",
    "# dopredny pruchod\n",
    "e = emb(x)\n",
    "e.shape"
   ]
  },
  {
   "cell_type": "code",
   "execution_count": 13,
   "metadata": {},
   "outputs": [
    {
     "data": {
      "text/plain": [
       "tensor([[ 0.4557,  1.9995,  0.6302,  0.0720, -1.0245, -0.5744, -0.0923,  0.0560,\n",
       "         -0.6536,  0.0991,  1.6706,  0.1062,  0.2529,  1.9503,  0.7142,  1.3709,\n",
       "          0.2447,  0.1714, -2.4037, -1.1285,  0.1038, -0.2374,  1.6430, -0.5453,\n",
       "         -0.1342, -0.8313,  0.4431, -1.7355, -1.2235,  1.2615],\n",
       "        [ 1.3846, -0.9406,  0.1050,  1.2202,  0.4589,  1.7300,  0.5752,  0.1435,\n",
       "          1.1644, -0.2011,  1.7478, -0.5266,  0.2952,  0.1043,  1.0486, -0.2569,\n",
       "         -1.1252,  1.2360,  0.9916,  0.3481, -0.4290,  2.0518, -0.6132,  0.4050,\n",
       "          1.1451,  0.3414, -0.4107,  1.5130, -1.1350, -1.3132],\n",
       "        [-0.3931,  2.1999, -0.4299,  2.6891,  0.6235, -1.0730, -0.1550,  0.1332,\n",
       "          0.0853, -0.4199, -1.6074,  0.5136, -0.2896,  0.4934,  1.1530,  1.6746,\n",
       "          0.8868,  0.3384,  0.2117,  1.1768, -0.0212, -1.5892,  0.4666, -0.0596,\n",
       "         -1.1289, -0.5875, -1.3248, -1.0352,  1.1835,  0.0507],\n",
       "        [ 0.4557,  1.9995,  0.6302,  0.0720, -1.0245, -0.5744, -0.0923,  0.0560,\n",
       "         -0.6536,  0.0991,  1.6706,  0.1062,  0.2529,  1.9503,  0.7142,  1.3709,\n",
       "          0.2447,  0.1714, -2.4037, -1.1285,  0.1038, -0.2374,  1.6430, -0.5453,\n",
       "         -0.1342, -0.8313,  0.4431, -1.7355, -1.2235,  1.2615]],\n",
       "       grad_fn=<EmbeddingBackward>)"
      ]
     },
     "execution_count": 13,
     "metadata": {},
     "output_type": "execute_result"
    }
   ],
   "source": [
    "e"
   ]
  },
  {
   "cell_type": "markdown",
   "metadata": {},
   "source": [
    "`Embedding` nedělá nic jiného, než že na výstup pro znak s indexem $i$ vrátí $i$-tý řádek své váhové matice `weight`, která drží vektory slov. Defaultně je tato matice inicializována náhodně. Pokud první písmeno v příkladu bylo 'a', jehož index ve \"slovníku\" `chars` je 12, první řádek embeddingu `e` bude odpovídat 13. řádku (index 12) matice `emb.weight`."
   ]
  },
  {
   "cell_type": "code",
   "execution_count": 14,
   "metadata": {},
   "outputs": [
    {
     "data": {
      "text/plain": [
       "True"
      ]
     },
     "execution_count": 14,
     "metadata": {},
     "output_type": "execute_result"
    }
   ],
   "source": [
    "bool(torch.all(e[0] == emb.weight[12]))"
   ]
  },
  {
   "cell_type": "markdown",
   "metadata": {},
   "source": [
    "## RNN v PyTorch"
   ]
  },
  {
   "cell_type": "markdown",
   "metadata": {},
   "source": [
    "PyTorch implementuje tři z nejrozšířenějších typů sítí třídami `RNN`, `LSTM` a `GRU`. API je pro všechny stejné: dopředný průchod `forward` očekává \"zespodu\" nějaký vstup `input` a \"zleva\" minulý stav `h0`. U `LSTM` je tento stav dvouvektorový. Výstupem je `output`, což je vlastně sekvence skrytých stavů poslední vrstvy rekurentní sítě pro jednotlivé kroky v čase, a nový stav `hn` po provedení celého průchodu. Vše vystihuje následující obrázek.\n",
    "\n",
    "![](https://i.stack.imgur.com/SjnTl.png)\n",
    "\n",
    "Zdroj: https://stackoverflow.com/a/48305882/9418551\n",
    "\n",
    "V nejjednoušším případě máme pouze jednu vrstvu sítě a jeden krok. Potom `output` a `hn` jsou stejné. To znamená, že `output` **neprochází žádnou lineární vrstvou**, jak jsme si to ukazovali na přednáškách, tedy že $y=W^{hy}h$, kde $y$ značí `output`. Transformaci na skóre/pravděpodobnost jednotlivých znaků tedy musíme provést sami. Parametry $W^{hy}$ RNN v PyTorch nezahrnují.\n",
    "\n",
    "Vstupní tensory $x_i$ na obrázku očekávají PyTorch RNN ve tvaru `(seq, batch, dim)`, kde\n",
    "- `seq` ... jak jdou znaky ve \"věte\" za sebou\n",
    "- `batch` ... počet paralelně zpracovávaných sekvencí, nezávisle na sobě\n",
    "- `dim` ... příznaky na vstupu\n",
    "\n",
    "V našem případě jsou vstupy vektory (embeddingy) jednotlivých znaků. Například tedy: `(10, 3, 5)` by znamenalo:\n",
    "- 3 paralelně zpracovávané\n",
    "- 10-znakové věty,\n",
    "- kde každý znak reprezentuje 5dimenzionální vektor"
   ]
  },
  {
   "cell_type": "code",
   "execution_count": 15,
   "metadata": {},
   "outputs": [
    {
     "data": {
      "text/plain": [
       "torch.Size([1, 1, 30])"
      ]
     },
     "execution_count": 15,
     "metadata": {},
     "output_type": "execute_result"
    }
   ],
   "source": [
    "# do site posleme pouze jeden znak; tvar tensoru musi byt (seq, batch, dim), proto musime pouzit reshape\n",
    "e0 = e[0].reshape(1, 1, -1)\n",
    "e0.shape"
   ]
  },
  {
   "cell_type": "markdown",
   "metadata": {},
   "source": [
    "Vytvoříme jednuduchou `torch.nn.RNN`, která na vstupu očekává vektor o rozměru 30 a bude mít skrytý vektor o rozměru 8."
   ]
  },
  {
   "cell_type": "code",
   "execution_count": 16,
   "metadata": {},
   "outputs": [
    {
     "data": {
      "text/plain": [
       "RNN(30, 8)"
      ]
     },
     "execution_count": 16,
     "metadata": {},
     "output_type": "execute_result"
    }
   ],
   "source": [
    "rnn = nn.RNN(30, 8)\n",
    "rnn"
   ]
  },
  {
   "cell_type": "markdown",
   "metadata": {},
   "source": [
    "V PyTorch musíme řešit inicializaci i předávání skrytého stavu v jednotlivých krocích ručně. Umožňuje to tak větší flexibilitu."
   ]
  },
  {
   "cell_type": "code",
   "execution_count": 17,
   "metadata": {},
   "outputs": [
    {
     "data": {
      "text/plain": [
       "tensor([[[0.2800, 0.3159, 0.0584, 0.0889, 0.6695, 0.5408, 0.1425, 0.7173]]])"
      ]
     },
     "execution_count": 17,
     "metadata": {},
     "output_type": "execute_result"
    }
   ],
   "source": [
    "# inicializace skryteho stavu a vstupu\n",
    "# tensory opet musi byt tvaru (seq, batch, dim)\n",
    "h = torch.rand(1, 1, 8)\n",
    "h"
   ]
  },
  {
   "cell_type": "code",
   "execution_count": 18,
   "metadata": {},
   "outputs": [
    {
     "name": "stdout",
     "output_type": "stream",
     "text": [
      "torch.Size([1, 1, 30]) torch.Size([1, 1, 8]) torch.Size([1, 1, 8]) torch.Size([1, 1, 8])\n"
     ]
    }
   ],
   "source": [
    "# dopredny pruchod\n",
    "o, h = rnn(e0, h)\n",
    "print(e0.shape, h.shape, o.shape, h.shape)"
   ]
  },
  {
   "cell_type": "markdown",
   "metadata": {},
   "source": [
    "RNN vrátí vždy dvojici `(output, hidden)`, které vysvětluje obrázek výše. V tomto jednoduchém případě, kdy máme pouze jedinou vrstvu, se jedná o tensory se shodnými hodnotami."
   ]
  },
  {
   "cell_type": "code",
   "execution_count": 19,
   "metadata": {},
   "outputs": [
    {
     "data": {
      "text/plain": [
       "True"
      ]
     },
     "execution_count": 19,
     "metadata": {},
     "output_type": "execute_result"
    }
   ],
   "source": [
    "bool(torch.all(o == h))"
   ]
  },
  {
   "cell_type": "markdown",
   "metadata": {},
   "source": [
    "Nyní už více samostatně. Zadefinujeme vlastní třídu, která bude řešit jednotlivé kroky sama ve svém dopředném průchodu. Vstupem tedy bude sekvence čísel, výstupem skóre jednotlivých kroků."
   ]
  },
  {
   "cell_type": "code",
   "execution_count": 1645,
   "metadata": {},
   "outputs": [],
   "source": [
    "import torch.nn.functional as F\n",
    "\n",
    "class CharRNN(nn.Module):\n",
    "    def __init__(self, voc_size, emb_dim, hidden_size, output_size, num_layers):\n",
    "        super().__init__()\n",
    "\n",
    "        #################################################################\n",
    "        # ZDE DOPLNIT\n",
    "        self.num_layers = num_layers\n",
    "        self.hidden_size = hidden_size\n",
    "        \n",
    "        self.emb = nn.Embedding(voc_size, emb_dim)\n",
    "        self.rnn = nn.GRU(emb_dim, hidden_size, num_layers)\n",
    "        self.fc = nn.Linear(hidden_size, output_size)\n",
    "        self.sigmoid = nn.LogSigmoid() \n",
    "        \n",
    "        self.reset_hidden()\n",
    "        \n",
    "        #################################################################\n",
    "\n",
    "    def forward(self, x):\n",
    "        \n",
    "        #################################################################\n",
    "        # ZDE DOPLNIT\n",
    "        \n",
    "        embedd = self.emb(x).unsqueeze(1)\n",
    "        output, h = self.rnn(embedd, self.hidden)\n",
    "        self.hidden = h\n",
    "        score = self.fc(output)\n",
    "        score = self.sigmoid(score)\n",
    "        #################################################################\n",
    "        \n",
    "        return score\n",
    "\n",
    "    def reset_hidden(self):\n",
    "        \n",
    "        #################################################################\n",
    "        # ZDE DOPLNIT\n",
    "        # funkce resetuje hidden state na nuly\n",
    "        \n",
    "        self.hidden = torch.zeros(self.num_layers, 1, self.hidden_size)\n",
    "        \n",
    "        #################################################################"
   ]
  },
  {
   "cell_type": "code",
   "execution_count": 1646,
   "metadata": {},
   "outputs": [],
   "source": [
    "#################################################################\n",
    "# ZDE DOPLNIT\n",
    "voc_size = len(chars)\n",
    "emb_dim = 500\n",
    "hidden_dim = 256\n",
    "output_dim = len(chars)\n",
    "#################################################################\n",
    "\n",
    "rnn = CharRNN(voc_size, emb_dim, hidden_dim, output_dim, num_layers=2)\n",
    "stats = ans.Stats()"
   ]
  },
  {
   "cell_type": "code",
   "execution_count": 1752,
   "metadata": {},
   "outputs": [],
   "source": [
    "def sample(rnn, init_text='', maxlen=150, mode='multinomial', temperature=0.6):\n",
    "    \"\"\"\n",
    "    generuje text pomoci modelu `rnn`\n",
    "    \n",
    "    vstupy:\n",
    "        rnn ... rekurentni sit odvozena z `nn.Module`, ktera po zavolani vraci dvojici (vyst_skore, skryta_rep)\n",
    "        init_text ... inicializacni text, na ktery generovani textu navaze\n",
    "        maxlen ... maximalni delka generovaneho textu\n",
    "        mode ... zpusob vyberu nasledujiciho znaku, viz komentare v kodu\n",
    "        temperature ... vyhlazeni multinomialniho rozlozeni, viz komentare v kodu\n",
    "    \"\"\"\n",
    "    # vystupni text bude pole (na konci prevedeme zpet na str)\n",
    "    out_text = list(init_text)\n",
    "    \n",
    "    # pokud nezadan, inicializujeme nahodne, dle rozlozeni prvnich znaku\n",
    "    if not out_text:\n",
    "        k = np.random.choice(len(chars), p=p0)\n",
    "        out_text = [chars[k]]\n",
    "    \n",
    "    # vstup projedeme siti, abychom ziskali aktualni hidden stav\n",
    "    rnn.reset_hidden()\n",
    "    if len(out_text) > 1:\n",
    "        x = str2idt(out_text[:-1])\n",
    "        score = rnn(x)\n",
    "    # pravdepodobnosti muzeme pocitat softmaxem\n",
    "    softmax = nn.Softmax(dim=2)\n",
    "\n",
    "    while True:\n",
    "        # nasledujici znak je posledni znak prozatimniho vystupu\n",
    "        x = str2idt(out_text[-1])\n",
    "        \n",
    "        # dopredny pruchod\n",
    "        score = rnn(x)\n",
    "        # pravdepodobnosti znaku\n",
    "        prob = softmax(score).flatten()\n",
    "        # vyberem index `k` nasleduciho znaku\n",
    "        if mode == 'multinomial':\n",
    "            # nasledujici znak bude vybran dle ad hoc multinomialniho rozlozeni\n",
    "            # parametr `temperature` ... vyssi hodnota znamena nahodnejsi vysledky\n",
    "            # viz https://github.com/karpathy/char-rnn#sampling\n",
    "            k = torch.multinomial(score.flatten().div(temperature).exp(), 1)[0]\n",
    "        elif mode == 'argmax':\n",
    "            #################################################################\n",
    "            # ZDE DOPLNIT\n",
    "            \n",
    "            # nasledujici znak bude ten, jehoz pravdepodobnost vysla maximalni\n",
    "            k = int((prob == torch.max(prob)).nonzero(as_tuple=True)[0])\n",
    "            \n",
    "            #################################################################\n",
    "        elif mode == 'proportional':\n",
    "            #################################################################\n",
    "            # ZDE DOPLNIT\n",
    "            \n",
    "            # nasl. znak se vybere nahodne, ale s pravdepodobnosti proporcionalni k vystupu softmaxu\n",
    "            # napr. pokud znak 'x' ma dle softmaxu 84 %, bude s pravdepodobnosti 84 % vybran jako vstup do dalsi iterace\n",
    "            \n",
    "            k = np.random.choice(len(chars), p=prob.detach().numpy())\n",
    "            \n",
    "            #################################################################\n",
    "        \n",
    "        #################################################################\n",
    "        # ZDE DOPLNIT\n",
    "        \n",
    "        # zastavit, pokud end-token\n",
    "        if chars[k] == '\\n':\n",
    "            break\n",
    "        \n",
    "        # pridat znak na vystup\n",
    "        out_text += chars[k]\n",
    "        \n",
    "        # zastavit, pokud text je moc dlouhy\n",
    "        if len(out_text) > maxlen:\n",
    "            break\n",
    "        \n",
    "        #################################################################\n",
    "    \n",
    "    return ''.join(out_text)"
   ]
  },
  {
   "cell_type": "markdown",
   "metadata": {},
   "source": [
    "Vytvoříme si také funkci pro samplování z naší sítě. Funkce přijme model `rnn` a nějaký inicializační text `init_text` a vygeneruje text - vrací tedy string."
   ]
  },
  {
   "cell_type": "code",
   "execution_count": 1754,
   "metadata": {},
   "outputs": [
    {
     "name": "stdout",
     "output_type": "stream",
     "text": [
      "prezidenti na predikl zavnakotne odred prevneho bezletikanou ktebra bvil oominy\n"
     ]
    }
   ],
   "source": [
    "print(sample(rnn, init_text='prezident', mode='proportional'))"
   ]
  },
  {
   "cell_type": "markdown",
   "metadata": {},
   "source": [
    "# Trénování"
   ]
  },
  {
   "cell_type": "markdown",
   "metadata": {},
   "source": [
    "V každé iteraci pomocí funkce `char_tensor` vytvoříme trénovací data `(inpt, targ)`, což budou číselné indexy znaků tak, jak je definuje tabulka `chr2idx`. Budeme trénovat generování znaků, tzn. že požadovaným výstupem (label, target) `targ[i]` pro vstup `inpt[i]` je vždy následující znak `inpt[i+1]`. Vektor `targ` je tedy v tomto případě stejného rozměru jako `inpt`. Nezapomeňte na poslední znak, který má jako target `\\n` značící konec sekvence.\n",
    "\n",
    "Vyzkoušejte si na příkladu:"
   ]
  },
  {
   "cell_type": "code",
   "execution_count": 1701,
   "metadata": {},
   "outputs": [
    {
     "name": "stdout",
     "output_type": "stream",
     "text": [
      "ctvrtnickovi ve filmu andel pane 2 anicka prekonala tatu\n"
     ]
    }
   ],
   "source": [
    "line = random.choice(lines)\n",
    "print(line)"
   ]
  },
  {
   "cell_type": "code",
   "execution_count": 1702,
   "metadata": {},
   "outputs": [],
   "source": [
    "#################################################################\n",
    "# ZDE DOPLNIT\n",
    "\n",
    "inpt = str2idt(line)\n",
    "targ = str2idt(line[1:] + '\\n')\n",
    "#################################################################"
   ]
  },
  {
   "cell_type": "code",
   "execution_count": 1703,
   "metadata": {},
   "outputs": [
    {
     "name": "stdout",
     "output_type": "stream",
     "text": [
      "vstup:   ctvrtnicko ... onala tatu\n",
      "target:  tvrtnickov ... nala tatu\n",
      "\n"
     ]
    }
   ],
   "source": [
    "print('vstup:   {} ... {}'.format(idt2str(inpt[:10]), idt2str(inpt[-10:])))\n",
    "print('target:  {} ... {}'.format(idt2str(targ[:10]), idt2str(targ[-10:])))"
   ]
  },
  {
   "cell_type": "code",
   "execution_count": 1704,
   "metadata": {},
   "outputs": [],
   "source": [
    "crit = nn.CrossEntropyLoss()"
   ]
  },
  {
   "cell_type": "code",
   "execution_count": 1705,
   "metadata": {},
   "outputs": [
    {
     "data": {
      "text/plain": [
       "Adam (\n",
       "Parameter Group 0\n",
       "    amsgrad: False\n",
       "    betas: (0.9, 0.999)\n",
       "    eps: 1e-08\n",
       "    lr: 0.001\n",
       "    weight_decay: 0\n",
       ")"
      ]
     },
     "execution_count": 1705,
     "metadata": {},
     "output_type": "execute_result"
    }
   ],
   "source": [
    "#################################################################\n",
    "# ZDE DOPLNIT\n",
    "\n",
    "optimizer = torch.optim.Adam(rnn.parameters())\n",
    "#optimizer = torch.optim.SGD(rnn.parameters(), lr=0.0001, momentum=0.9)\n",
    "optimizer\n",
    "#################################################################"
   ]
  },
  {
   "cell_type": "code",
   "execution_count": 1706,
   "metadata": {},
   "outputs": [],
   "source": [
    "stats = ans.Stats()"
   ]
  },
  {
   "cell_type": "code",
   "execution_count": 1707,
   "metadata": {
    "code_folding": []
   },
   "outputs": [
    {
     "name": "stderr",
     "output_type": "stream",
     "text": [
      "<ipython-input-1707-d9d025a34a81>:10: TqdmDeprecationWarning: This function will be removed in tqdm==5.0.0\n",
      "Please use `tqdm.notebook.tqdm` instead of `tqdm.tqdm_notebook`\n",
      "  pb = tqdm.tqdm_notebook(train_lines, desc='ep {:03d}'.format(len(stats)))\n"
     ]
    },
    {
     "data": {
      "application/vnd.jupyter.widget-view+json": {
       "model_id": "5074c0384b864bd59a28c55ea4dfe559",
       "version_major": 2,
       "version_minor": 0
      },
      "text/plain": [
       "ep 000:   0%|          | 0/1000 [00:00<?, ?it/s]"
      ]
     },
     "metadata": {},
     "output_type": "display_data"
    },
    {
     "data": {
      "application/vnd.jupyter.widget-view+json": {
       "model_id": "a7f9ee65063249d58d6dac1b517fe84e",
       "version_major": 2,
       "version_minor": 0
      },
      "text/plain": [
       "ep 001:   0%|          | 0/1000 [00:00<?, ?it/s]"
      ]
     },
     "metadata": {},
     "output_type": "display_data"
    },
    {
     "data": {
      "application/vnd.jupyter.widget-view+json": {
       "model_id": "2b4d4bbd4810437bbd6b9cfe50fe33cb",
       "version_major": 2,
       "version_minor": 0
      },
      "text/plain": [
       "ep 002:   0%|          | 0/1000 [00:00<?, ?it/s]"
      ]
     },
     "metadata": {},
     "output_type": "display_data"
    },
    {
     "data": {
      "application/vnd.jupyter.widget-view+json": {
       "model_id": "7f300c480ad64f6695f774ed8760de21",
       "version_major": 2,
       "version_minor": 0
      },
      "text/plain": [
       "ep 003:   0%|          | 0/1000 [00:00<?, ?it/s]"
      ]
     },
     "metadata": {},
     "output_type": "display_data"
    },
    {
     "data": {
      "application/vnd.jupyter.widget-view+json": {
       "model_id": "4fd71397b8494507942995df29d4826d",
       "version_major": 2,
       "version_minor": 0
      },
      "text/plain": [
       "ep 004:   0%|          | 0/1000 [00:00<?, ?it/s]"
      ]
     },
     "metadata": {},
     "output_type": "display_data"
    },
    {
     "data": {
      "application/vnd.jupyter.widget-view+json": {
       "model_id": "134cbf907cd54dff8b4d0c9b6d4f5cc0",
       "version_major": 2,
       "version_minor": 0
      },
      "text/plain": [
       "ep 005:   0%|          | 0/1000 [00:00<?, ?it/s]"
      ]
     },
     "metadata": {},
     "output_type": "display_data"
    },
    {
     "data": {
      "application/vnd.jupyter.widget-view+json": {
       "model_id": "83c713d66d414a7299273817a7477a7e",
       "version_major": 2,
       "version_minor": 0
      },
      "text/plain": [
       "ep 006:   0%|          | 0/1000 [00:00<?, ?it/s]"
      ]
     },
     "metadata": {},
     "output_type": "display_data"
    },
    {
     "data": {
      "application/vnd.jupyter.widget-view+json": {
       "model_id": "95a1f87ed7904967875c474a74030ba7",
       "version_major": 2,
       "version_minor": 0
      },
      "text/plain": [
       "ep 007:   0%|          | 0/1000 [00:00<?, ?it/s]"
      ]
     },
     "metadata": {},
     "output_type": "display_data"
    },
    {
     "data": {
      "application/vnd.jupyter.widget-view+json": {
       "model_id": "10a555db04c74351ab6367ecee0de1f4",
       "version_major": 2,
       "version_minor": 0
      },
      "text/plain": [
       "ep 008:   0%|          | 0/1000 [00:00<?, ?it/s]"
      ]
     },
     "metadata": {},
     "output_type": "display_data"
    },
    {
     "data": {
      "application/vnd.jupyter.widget-view+json": {
       "model_id": "e0ffccabd8d6492199a5149a5b444b07",
       "version_major": 2,
       "version_minor": 0
      },
      "text/plain": [
       "ep 009:   0%|          | 0/1000 [00:00<?, ?it/s]"
      ]
     },
     "metadata": {},
     "output_type": "display_data"
    },
    {
     "data": {
      "application/vnd.jupyter.widget-view+json": {
       "model_id": "3b14f860eeee43119d309bb1aa2ff7fc",
       "version_major": 2,
       "version_minor": 0
      },
      "text/plain": [
       "ep 010:   0%|          | 0/1000 [00:00<?, ?it/s]"
      ]
     },
     "metadata": {},
     "output_type": "display_data"
    },
    {
     "data": {
      "application/vnd.jupyter.widget-view+json": {
       "model_id": "f37634527e924354bb8fcb8315682a1a",
       "version_major": 2,
       "version_minor": 0
      },
      "text/plain": [
       "ep 011:   0%|          | 0/1000 [00:00<?, ?it/s]"
      ]
     },
     "metadata": {},
     "output_type": "display_data"
    },
    {
     "data": {
      "application/vnd.jupyter.widget-view+json": {
       "model_id": "64022b990b86427aa54492bdcbe887b6",
       "version_major": 2,
       "version_minor": 0
      },
      "text/plain": [
       "ep 012:   0%|          | 0/1000 [00:00<?, ?it/s]"
      ]
     },
     "metadata": {},
     "output_type": "display_data"
    },
    {
     "data": {
      "application/vnd.jupyter.widget-view+json": {
       "model_id": "c81aca3edc6c4310897539cc570edb97",
       "version_major": 2,
       "version_minor": 0
      },
      "text/plain": [
       "ep 013:   0%|          | 0/1000 [00:00<?, ?it/s]"
      ]
     },
     "metadata": {},
     "output_type": "display_data"
    },
    {
     "data": {
      "application/vnd.jupyter.widget-view+json": {
       "model_id": "4dc754f871e743c3bb1691ca64ef658e",
       "version_major": 2,
       "version_minor": 0
      },
      "text/plain": [
       "ep 014:   0%|          | 0/1000 [00:00<?, ?it/s]"
      ]
     },
     "metadata": {},
     "output_type": "display_data"
    },
    {
     "ename": "KeyboardInterrupt",
     "evalue": "",
     "output_type": "error",
     "traceback": [
      "\u001b[1;31m---------------------------------------------------------------------------\u001b[0m",
      "\u001b[1;31mKeyboardInterrupt\u001b[0m                         Traceback (most recent call last)",
      "\u001b[1;32m<ipython-input-1707-d9d025a34a81>\u001b[0m in \u001b[0;36m<module>\u001b[1;34m\u001b[0m\n\u001b[0;32m     24\u001b[0m \u001b[1;33m\u001b[0m\u001b[0m\n\u001b[0;32m     25\u001b[0m         \u001b[0moptimizer\u001b[0m\u001b[1;33m.\u001b[0m\u001b[0mzero_grad\u001b[0m\u001b[1;33m(\u001b[0m\u001b[1;33m)\u001b[0m\u001b[1;33m\u001b[0m\u001b[1;33m\u001b[0m\u001b[0m\n\u001b[1;32m---> 26\u001b[1;33m         \u001b[0mloss\u001b[0m\u001b[1;33m.\u001b[0m\u001b[0mbackward\u001b[0m\u001b[1;33m(\u001b[0m\u001b[1;33m)\u001b[0m\u001b[1;33m\u001b[0m\u001b[1;33m\u001b[0m\u001b[0m\n\u001b[0m\u001b[0;32m     27\u001b[0m         \u001b[0moptimizer\u001b[0m\u001b[1;33m.\u001b[0m\u001b[0mstep\u001b[0m\u001b[1;33m(\u001b[0m\u001b[1;33m)\u001b[0m\u001b[1;33m\u001b[0m\u001b[1;33m\u001b[0m\u001b[0m\n\u001b[0;32m     28\u001b[0m \u001b[1;33m\u001b[0m\u001b[0m\n",
      "\u001b[1;32mD:\\Studium\\anaconda3\\envs\\ans21zs\\lib\\site-packages\\torch\\_tensor.py\u001b[0m in \u001b[0;36mbackward\u001b[1;34m(self, gradient, retain_graph, create_graph, inputs)\u001b[0m\n\u001b[0;32m    253\u001b[0m                 \u001b[0mcreate_graph\u001b[0m\u001b[1;33m=\u001b[0m\u001b[0mcreate_graph\u001b[0m\u001b[1;33m,\u001b[0m\u001b[1;33m\u001b[0m\u001b[1;33m\u001b[0m\u001b[0m\n\u001b[0;32m    254\u001b[0m                 inputs=inputs)\n\u001b[1;32m--> 255\u001b[1;33m         \u001b[0mtorch\u001b[0m\u001b[1;33m.\u001b[0m\u001b[0mautograd\u001b[0m\u001b[1;33m.\u001b[0m\u001b[0mbackward\u001b[0m\u001b[1;33m(\u001b[0m\u001b[0mself\u001b[0m\u001b[1;33m,\u001b[0m \u001b[0mgradient\u001b[0m\u001b[1;33m,\u001b[0m \u001b[0mretain_graph\u001b[0m\u001b[1;33m,\u001b[0m \u001b[0mcreate_graph\u001b[0m\u001b[1;33m,\u001b[0m \u001b[0minputs\u001b[0m\u001b[1;33m=\u001b[0m\u001b[0minputs\u001b[0m\u001b[1;33m)\u001b[0m\u001b[1;33m\u001b[0m\u001b[1;33m\u001b[0m\u001b[0m\n\u001b[0m\u001b[0;32m    256\u001b[0m \u001b[1;33m\u001b[0m\u001b[0m\n\u001b[0;32m    257\u001b[0m     \u001b[1;32mdef\u001b[0m \u001b[0mregister_hook\u001b[0m\u001b[1;33m(\u001b[0m\u001b[0mself\u001b[0m\u001b[1;33m,\u001b[0m \u001b[0mhook\u001b[0m\u001b[1;33m)\u001b[0m\u001b[1;33m:\u001b[0m\u001b[1;33m\u001b[0m\u001b[1;33m\u001b[0m\u001b[0m\n",
      "\u001b[1;32mD:\\Studium\\anaconda3\\envs\\ans21zs\\lib\\site-packages\\torch\\autograd\\__init__.py\u001b[0m in \u001b[0;36mbackward\u001b[1;34m(tensors, grad_tensors, retain_graph, create_graph, grad_variables, inputs)\u001b[0m\n\u001b[0;32m    145\u001b[0m         \u001b[0mretain_graph\u001b[0m \u001b[1;33m=\u001b[0m \u001b[0mcreate_graph\u001b[0m\u001b[1;33m\u001b[0m\u001b[1;33m\u001b[0m\u001b[0m\n\u001b[0;32m    146\u001b[0m \u001b[1;33m\u001b[0m\u001b[0m\n\u001b[1;32m--> 147\u001b[1;33m     Variable._execution_engine.run_backward(\n\u001b[0m\u001b[0;32m    148\u001b[0m         \u001b[0mtensors\u001b[0m\u001b[1;33m,\u001b[0m \u001b[0mgrad_tensors_\u001b[0m\u001b[1;33m,\u001b[0m \u001b[0mretain_graph\u001b[0m\u001b[1;33m,\u001b[0m \u001b[0mcreate_graph\u001b[0m\u001b[1;33m,\u001b[0m \u001b[0minputs\u001b[0m\u001b[1;33m,\u001b[0m\u001b[1;33m\u001b[0m\u001b[1;33m\u001b[0m\u001b[0m\n\u001b[0;32m    149\u001b[0m         allow_unreachable=True, accumulate_grad=True)  # allow_unreachable flag\n",
      "\u001b[1;31mKeyboardInterrupt\u001b[0m: "
     ]
    }
   ],
   "source": [
    "example = sample(rnn, mode='argmax')\n",
    "max_per_epoch = 1000\n",
    "rnn.train()\n",
    "\n",
    "scheduler = torch.optim.lr_scheduler.MultiStepLR(optimizer, milestones=[1, 3, 6, 8, 10, 12, 15, 18, 21], gamma=0.01)\n",
    "for epoch in range(80):\n",
    "    # data budou nahodne prehazena\n",
    "    train_lines = random.sample(lines, max_per_epoch)\n",
    "    # progressbar\n",
    "    pb = tqdm.tqdm_notebook(train_lines, desc='ep {:03d}'.format(len(stats)))\n",
    "    \n",
    "    stats.new_epoch()\n",
    "    \n",
    "    for it, line in enumerate(pb):\n",
    "        rnn.reset_hidden()\n",
    "        #################################################################\n",
    "        # ZDE DOPLNIT\n",
    "        inpt = str2idt(line)\n",
    "        targ = str2idt(line[1:] + '\\n')\n",
    "        softmax = nn.Softmax(dim=2)\n",
    "        scores = rnn(inpt).squeeze(1)\n",
    "        loss = crit(scores, targ)\n",
    "        #################################################################\n",
    "        \n",
    "        optimizer.zero_grad()\n",
    "        loss.backward()\n",
    "        optimizer.step()\n",
    "        \n",
    "        if it % 100 == 0:\n",
    "            rnn.eval()\n",
    "            example = sample(rnn)\n",
    "            rnn.train()\n",
    "        \n",
    "        stats.append_batch_stats('train', loss=float(loss))\n",
    "        pb.set_postfix(loss='{:.3f}'.format(stats.ravg('train', 'loss')), ex=example[:40])\n",
    "    scheduler.step()\n",
    "    \n",
    "# pripadne ulozit model\n",
    "# torch.save(rnn.state_dict(), f'lstm-{epoch:02d}.pth')"
   ]
  },
  {
   "cell_type": "code",
   "execution_count": 1708,
   "metadata": {},
   "outputs": [],
   "source": [
    "torch.save(rnn.state_dict(), f'lstm-{epoch:06d}.pth')\n",
    "stats.plot_by_batch(block_len=10, right_metric=None)"
   ]
  },
  {
   "cell_type": "code",
   "execution_count": 1713,
   "metadata": {},
   "outputs": [
    {
     "name": "stdout",
     "output_type": "stream",
     "text": [
      "prezit vystavnika nese o veruje hodel poline na poradni si v nejmeni\n",
      "===================\n",
      "prezit za na domali rozmerista sorada se jedni oblavi zadalo kamari ma nameni nepat\n",
      "===================\n",
      "prezila vyda nestra bele boje na konci je ostrero po mozi\n",
      "===================\n",
      "prezidente trotbvy podvodni kralici ministorel gelepla se sestrati zabil ze vyzakan milaris krade\n",
      "===================\n",
      "prezivat doslobu obezivu plozil prezide po zemovala za ma proveli na jedem\n",
      "===================\n"
     ]
    }
   ],
   "source": [
    "rnn.eval()\n",
    "for i in range(5):\n",
    "    print(sample(rnn, init_text='prezi', mode='multinomial'))\n",
    "    print(\"===================\")"
   ]
  },
  {
   "cell_type": "code",
   "execution_count": null,
   "metadata": {},
   "outputs": [],
   "source": []
  }
 ],
 "metadata": {
  "kernelspec": {
   "display_name": "Python 3",
   "language": "python",
   "name": "python3"
  },
  "language_info": {
   "codemirror_mode": {
    "name": "ipython",
    "version": 3
   },
   "file_extension": ".py",
   "mimetype": "text/x-python",
   "name": "python",
   "nbconvert_exporter": "python",
   "pygments_lexer": "ipython3",
   "version": "3.8.11"
  },
  "varInspector": {
   "cols": {
    "lenName": 16,
    "lenType": 16,
    "lenVar": 40
   },
   "kernels_config": {
    "python": {
     "delete_cmd_postfix": "",
     "delete_cmd_prefix": "del ",
     "library": "var_list.py",
     "varRefreshCmd": "print(var_dic_list())"
    },
    "r": {
     "delete_cmd_postfix": ") ",
     "delete_cmd_prefix": "rm(",
     "library": "var_list.r",
     "varRefreshCmd": "cat(var_dic_list()) "
    }
   },
   "types_to_exclude": [
    "module",
    "function",
    "builtin_function_or_method",
    "instance",
    "_Feature"
   ],
   "window_display": false
  }
 },
 "nbformat": 4,
 "nbformat_minor": 4
}
